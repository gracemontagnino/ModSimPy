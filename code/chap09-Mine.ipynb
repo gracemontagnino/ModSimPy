{
 "cells": [
  {
   "cell_type": "markdown",
   "metadata": {},
   "source": [
    "# Modeling and Simulation in Python\n",
    "\n",
    "Chapter 9: Projectiles\n",
    "\n",
    "Copyright 2017 Allen Downey\n",
    "\n",
    "License: [Creative Commons Attribution 4.0 International](https://creativecommons.org/licenses/by/4.0)\n"
   ]
  },
  {
   "cell_type": "code",
   "execution_count": 143,
   "metadata": {
    "collapsed": true
   },
   "outputs": [],
   "source": [
    "# If you want the figures to appear in the notebook, \n",
    "# and you want to interact with them, use\n",
    "# %matplotlib notebook\n",
    "\n",
    "# If you want the figures to appear in the notebook, \n",
    "# and you don't want to interact with them, use\n",
    "# %matplotlib inline\n",
    "\n",
    "# If you want the figures to appear in separate windows, use\n",
    "# %matplotlib qt5\n",
    "\n",
    "# tempo switch from one to another, you have to select Kernel->Restart\n",
    "\n",
    "%matplotlib inline\n",
    "\n",
    "from modsim import *"
   ]
  },
  {
   "cell_type": "markdown",
   "metadata": {
    "collapsed": true
   },
   "source": [
    "### Dropping pennies\n",
    "\n",
    "I'll start by getting the units we'll need from Pint."
   ]
  },
  {
   "cell_type": "code",
   "execution_count": 144,
   "metadata": {
    "collapsed": true
   },
   "outputs": [],
   "source": [
    "m = UNITS.meter\n",
    "s = UNITS.second\n",
    "kg = UNITS.kilogram"
   ]
  },
  {
   "cell_type": "markdown",
   "metadata": {
    "collapsed": true
   },
   "source": [
    "And defining the initial state."
   ]
  },
  {
   "cell_type": "code",
   "execution_count": 145,
   "metadata": {
    "scrolled": true
   },
   "outputs": [
    {
     "data": {
      "text/html": [
       "<div>\n",
       "<style>\n",
       "    .dataframe thead tr:only-child th {\n",
       "        text-align: right;\n",
       "    }\n",
       "\n",
       "    .dataframe thead th {\n",
       "        text-align: left;\n",
       "    }\n",
       "\n",
       "    .dataframe tbody tr th {\n",
       "        vertical-align: top;\n",
       "    }\n",
       "</style>\n",
       "<table border=\"1\" class=\"dataframe\">\n",
       "  <thead>\n",
       "    <tr style=\"text-align: right;\">\n",
       "      <th></th>\n",
       "      <th>value</th>\n",
       "    </tr>\n",
       "  </thead>\n",
       "  <tbody>\n",
       "    <tr>\n",
       "      <th>y</th>\n",
       "      <td>381 meter</td>\n",
       "    </tr>\n",
       "    <tr>\n",
       "      <th>v</th>\n",
       "      <td>0.0 meter / second</td>\n",
       "    </tr>\n",
       "  </tbody>\n",
       "</table>\n",
       "</div>"
      ],
      "text/plain": [
       "y             381 meter\n",
       "v    0.0 meter / second\n",
       "dtype: object"
      ]
     },
     "execution_count": 145,
     "metadata": {},
     "output_type": "execute_result"
    }
   ],
   "source": [
    "init = State(y=381 * m, \n",
    "             v=0 * m/s)\n",
    "init"
   ]
  },
  {
   "cell_type": "markdown",
   "metadata": {
    "collapsed": true
   },
   "source": [
    "Acceleration due to gravity is about 9.8 m / s$^2$."
   ]
  },
  {
   "cell_type": "code",
   "execution_count": 146,
   "metadata": {
    "collapsed": true
   },
   "outputs": [],
   "source": [
    "g = 9.8 * m/s**2"
   ]
  },
  {
   "cell_type": "markdown",
   "metadata": {
    "collapsed": true
   },
   "source": [
    "When we call `odeint`, we need an array of timestamps where we want to compute the solution.\n",
    "\n",
    "I'll start with a duration of 10 seconds."
   ]
  },
  {
   "cell_type": "code",
   "execution_count": 147,
   "metadata": {},
   "outputs": [
    {
     "data": {
      "text/html": [
       "[  0.           0.52631579   1.05263158   1.57894737   2.10526316   2.63157895   3.15789474   3.68421053   4.21052632   4.73684211   5.26315789   5.78947368   6.31578947   6.84210526   7.36842105   7.89473684   8.42105263   8.94736842   9.47368421  10.        ] second"
      ],
      "text/latex": [
       "$[  0.           0.52631579   1.05263158   1.57894737   2.10526316   2.63157895   3.15789474   3.68421053   4.21052632   4.73684211   5.26315789   5.78947368   6.31578947   6.84210526   7.36842105   7.89473684   8.42105263   8.94736842   9.47368421  10.        ] second$"
      ],
      "text/plain": [
       "<Quantity([  0.           0.52631579   1.05263158   1.57894737   2.10526316\n",
       "   2.63157895   3.15789474   3.68421053   4.21052632   4.73684211\n",
       "   5.26315789   5.78947368   6.31578947   6.84210526   7.36842105\n",
       "   7.89473684   8.42105263   8.94736842   9.47368421  10.        ], 'second')>"
      ]
     },
     "execution_count": 147,
     "metadata": {},
     "output_type": "execute_result"
    }
   ],
   "source": [
    "duration = 10 * s\n",
    "ts = linspace(0, duration, 20)\n",
    "ts"
   ]
  },
  {
   "cell_type": "markdown",
   "metadata": {
    "collapsed": true
   },
   "source": [
    "Now we make a `System` object."
   ]
  },
  {
   "cell_type": "code",
   "execution_count": 148,
   "metadata": {
    "collapsed": true
   },
   "outputs": [],
   "source": [
    "system = System(init=init, g=g, ts=ts)"
   ]
  },
  {
   "cell_type": "markdown",
   "metadata": {
    "collapsed": true
   },
   "source": [
    "And define the slope function."
   ]
  },
  {
   "cell_type": "code",
   "execution_count": 149,
   "metadata": {
    "collapsed": true
   },
   "outputs": [],
   "source": [
    "def slope_func(state, t, system):\n",
    "    \"\"\"Compute derivatives of the state.\n",
    "    \n",
    "    state: position, velocity\n",
    "    t: time\n",
    "    system: System object containing `g`\n",
    "    \n",
    "    returns: derivatives of y and v\n",
    "    \"\"\"\n",
    "    y, v = state\n",
    "    unpack(system)    \n",
    "\n",
    "    dydt = v\n",
    "    dvdt = -g\n",
    "    print('t=')\n",
    "    print(t)\n",
    "    return dydt, dvdt"
   ]
  },
  {
   "cell_type": "markdown",
   "metadata": {
    "collapsed": true
   },
   "source": [
    "It's always a good idea to test the slope function with the initial conditions."
   ]
  },
  {
   "cell_type": "code",
   "execution_count": 150,
   "metadata": {},
   "outputs": [
    {
     "name": "stdout",
     "output_type": "stream",
     "text": [
      "t=\n",
      "0\n",
      "0.0 meter / second\n",
      "-9.8 meter / second ** 2\n"
     ]
    }
   ],
   "source": [
    "dydt, dvdt = slope_func(init, 0, system)\n",
    "print(dydt)\n",
    "print(dvdt)"
   ]
  },
  {
   "cell_type": "markdown",
   "metadata": {
    "collapsed": true
   },
   "source": [
    "Now we're ready to run `odeint`"
   ]
  },
  {
   "cell_type": "code",
   "execution_count": 151,
   "metadata": {},
   "outputs": [
    {
     "name": "stdout",
     "output_type": "stream",
     "text": [
      "t=\n",
      "0.0 second\n",
      "t=\n",
      "0.0\n",
      "t=\n",
      "1.2228465717674034e-05\n",
      "t=\n",
      "1.2228465717674034e-05\n",
      "t=\n",
      "2.4456931435348068e-05\n",
      "t=\n",
      "2.4456931435348068e-05\n",
      "t=\n",
      "0.12230911410817569\n",
      "t=\n",
      "0.24459377128491602\n",
      "t=\n",
      "0.36687842846165636\n",
      "t=\n",
      "1.5897250002290597\n",
      "t=\n",
      "2.812571571996463\n",
      "t=\n",
      "4.0354181437638665\n",
      "t=\n",
      "16.2638838614379\n"
     ]
    }
   ],
   "source": [
    "run_odeint(system, slope_func)"
   ]
  },
  {
   "cell_type": "markdown",
   "metadata": {
    "collapsed": true
   },
   "source": [
    "Here's what the results look like."
   ]
  },
  {
   "cell_type": "code",
   "execution_count": 152,
   "metadata": {},
   "outputs": [
    {
     "data": {
      "text/html": [
       "<div>\n",
       "<style>\n",
       "    .dataframe thead tr:only-child th {\n",
       "        text-align: right;\n",
       "    }\n",
       "\n",
       "    .dataframe thead th {\n",
       "        text-align: left;\n",
       "    }\n",
       "\n",
       "    .dataframe tbody tr th {\n",
       "        vertical-align: top;\n",
       "    }\n",
       "</style>\n",
       "<table border=\"1\" class=\"dataframe\">\n",
       "  <thead>\n",
       "    <tr style=\"text-align: right;\">\n",
       "      <th></th>\n",
       "      <th>y</th>\n",
       "      <th>v</th>\n",
       "    </tr>\n",
       "  </thead>\n",
       "  <tbody>\n",
       "    <tr>\n",
       "      <th>0.000000</th>\n",
       "      <td>381.000000</td>\n",
       "      <td>0.000000</td>\n",
       "    </tr>\n",
       "    <tr>\n",
       "      <th>0.526316</th>\n",
       "      <td>379.642659</td>\n",
       "      <td>-5.157895</td>\n",
       "    </tr>\n",
       "    <tr>\n",
       "      <th>1.052632</th>\n",
       "      <td>375.570637</td>\n",
       "      <td>-10.315789</td>\n",
       "    </tr>\n",
       "    <tr>\n",
       "      <th>1.578947</th>\n",
       "      <td>368.783934</td>\n",
       "      <td>-15.473684</td>\n",
       "    </tr>\n",
       "    <tr>\n",
       "      <th>2.105263</th>\n",
       "      <td>359.282548</td>\n",
       "      <td>-20.631579</td>\n",
       "    </tr>\n",
       "  </tbody>\n",
       "</table>\n",
       "</div>"
      ],
      "text/plain": [
       "                   y          v\n",
       "0.000000  381.000000   0.000000\n",
       "0.526316  379.642659  -5.157895\n",
       "1.052632  375.570637 -10.315789\n",
       "1.578947  368.783934 -15.473684\n",
       "2.105263  359.282548 -20.631579"
      ]
     },
     "execution_count": 152,
     "metadata": {},
     "output_type": "execute_result"
    }
   ],
   "source": [
    "system.results.head()"
   ]
  },
  {
   "cell_type": "code",
   "execution_count": 153,
   "metadata": {},
   "outputs": [
    {
     "data": {
      "text/html": [
       "<div>\n",
       "<style>\n",
       "    .dataframe thead tr:only-child th {\n",
       "        text-align: right;\n",
       "    }\n",
       "\n",
       "    .dataframe thead th {\n",
       "        text-align: left;\n",
       "    }\n",
       "\n",
       "    .dataframe tbody tr th {\n",
       "        vertical-align: top;\n",
       "    }\n",
       "</style>\n",
       "<table border=\"1\" class=\"dataframe\">\n",
       "  <thead>\n",
       "    <tr style=\"text-align: right;\">\n",
       "      <th></th>\n",
       "      <th>y</th>\n",
       "      <th>v</th>\n",
       "    </tr>\n",
       "  </thead>\n",
       "  <tbody>\n",
       "    <tr>\n",
       "      <th>7.894737</th>\n",
       "      <td>75.598338</td>\n",
       "      <td>-77.368421</td>\n",
       "    </tr>\n",
       "    <tr>\n",
       "      <th>8.421053</th>\n",
       "      <td>33.520776</td>\n",
       "      <td>-82.526316</td>\n",
       "    </tr>\n",
       "    <tr>\n",
       "      <th>8.947368</th>\n",
       "      <td>-11.271468</td>\n",
       "      <td>-87.684211</td>\n",
       "    </tr>\n",
       "    <tr>\n",
       "      <th>9.473684</th>\n",
       "      <td>-58.778393</td>\n",
       "      <td>-92.842105</td>\n",
       "    </tr>\n",
       "    <tr>\n",
       "      <th>10.000000</th>\n",
       "      <td>-109.000000</td>\n",
       "      <td>-98.000000</td>\n",
       "    </tr>\n",
       "  </tbody>\n",
       "</table>\n",
       "</div>"
      ],
      "text/plain": [
       "                    y          v\n",
       "7.894737    75.598338 -77.368421\n",
       "8.421053    33.520776 -82.526316\n",
       "8.947368   -11.271468 -87.684211\n",
       "9.473684   -58.778393 -92.842105\n",
       "10.000000 -109.000000 -98.000000"
      ]
     },
     "execution_count": 153,
     "metadata": {},
     "output_type": "execute_result"
    }
   ],
   "source": [
    "system.results.tail()"
   ]
  },
  {
   "cell_type": "markdown",
   "metadata": {
    "collapsed": true
   },
   "source": [
    "The following function plots the results."
   ]
  },
  {
   "cell_type": "code",
   "execution_count": 154,
   "metadata": {
    "collapsed": true
   },
   "outputs": [],
   "source": [
    "def plot_position(results):\n",
    "    \"\"\"Plot the results.\n",
    "    \n",
    "    results: DataFrame with position, `y`\n",
    "    \"\"\"\n",
    "    newfig()\n",
    "    plot(results.y, label='y')\n",
    "        \n",
    "    decorate(xlabel='Time (s)',\n",
    "             ylabel='Position (m)')"
   ]
  },
  {
   "cell_type": "markdown",
   "metadata": {
    "collapsed": true
   },
   "source": [
    "Here's what it looks like."
   ]
  },
  {
   "cell_type": "code",
   "execution_count": 155,
   "metadata": {},
   "outputs": [
    {
     "name": "stdout",
     "output_type": "stream",
     "text": [
      "Saving figure to file chap09-fig01.pdf\n"
     ]
    },
    {
     "data": {
      "image/png": "[encoded data removed]",
      "text/plain": [
       "<matplotlib.figure.Figure at 0x17d6c78d7b8>"
      ]
     },
     "metadata": {},
     "output_type": "display_data"
    }
   ],
   "source": [
    "plot_position(system.results)\n",
    "savefig('chap09-fig01.pdf')"
   ]
  },
  {
   "cell_type": "markdown",
   "metadata": {
    "collapsed": true
   },
   "source": [
    "**Exercise:** Add a print statement to `slope_func` to print the value of `t` each time it's called.  What can we infer about how `odeint` works, based on the results?"
   ]
  },
  {
   "cell_type": "markdown",
   "metadata": {},
   "source": [
    "I made it print t. Odeint starts with t=0. Tends to run simulations in number sets of three numbers all around one\n"
   ]
  },
  {
   "cell_type": "markdown",
   "metadata": {
    "collapsed": true
   },
   "source": [
    "**Exercise:** Change the value of `dt` and run the solver again.  What effect does it have on the results?"
   ]
  },
  {
   "cell_type": "markdown",
   "metadata": {},
   "source": [
    "I changed the value. As dt increases the graph gets smoother, as dt gets smaller it becomes more steppy"
   ]
  },
  {
   "cell_type": "markdown",
   "metadata": {},
   "source": [
    "### Onto the sidewalk\n",
    "\n",
    "Here's the code again to set up the `System` object."
   ]
  },
  {
   "cell_type": "code",
   "execution_count": 156,
   "metadata": {
    "collapsed": true
   },
   "outputs": [],
   "source": [
    "def make_system(duration, v_init=0):\n",
    "    \"\"\"Make a system object.\n",
    "    \n",
    "    duration: time of simulation in seconds\n",
    "    v_init: initial velocity, dimensionless\n",
    "    \n",
    "    returns: System object\n",
    "    \"\"\"\n",
    "    init = State(y=381 * m, v=v_init * m / s)\n",
    "\n",
    "    g = 9.8 * m/s**2\n",
    "    ts = linspace(0, duration, 20)\n",
    "    return System(init=init, g=g, ts=ts)"
   ]
  },
  {
   "cell_type": "markdown",
   "metadata": {},
   "source": [
    "And run the simulation."
   ]
  },
  {
   "cell_type": "code",
   "execution_count": 157,
   "metadata": {
    "scrolled": true
   },
   "outputs": [
    {
     "name": "stdout",
     "output_type": "stream",
     "text": [
      "t=\n",
      "0.0\n",
      "t=\n",
      "0.0\n",
      "t=\n",
      "1.2228465717674034e-05\n",
      "t=\n",
      "1.2228465717674034e-05\n",
      "t=\n",
      "2.4456931435348068e-05\n",
      "t=\n",
      "2.4456931435348068e-05\n",
      "t=\n",
      "0.12230911410817569\n",
      "t=\n",
      "0.24459377128491602\n",
      "t=\n",
      "0.36687842846165636\n",
      "t=\n",
      "1.5897250002290597\n",
      "t=\n",
      "2.812571571996463\n",
      "t=\n",
      "4.0354181437638665\n",
      "t=\n",
      "16.2638838614379\n"
     ]
    },
    {
     "data": {
      "text/html": [
       "<div>\n",
       "<style>\n",
       "    .dataframe thead tr:only-child th {\n",
       "        text-align: right;\n",
       "    }\n",
       "\n",
       "    .dataframe thead th {\n",
       "        text-align: left;\n",
       "    }\n",
       "\n",
       "    .dataframe tbody tr th {\n",
       "        vertical-align: top;\n",
       "    }\n",
       "</style>\n",
       "<table border=\"1\" class=\"dataframe\">\n",
       "  <thead>\n",
       "    <tr style=\"text-align: right;\">\n",
       "      <th></th>\n",
       "      <th>y</th>\n",
       "      <th>v</th>\n",
       "    </tr>\n",
       "  </thead>\n",
       "  <tbody>\n",
       "    <tr>\n",
       "      <th>0.000000</th>\n",
       "      <td>381.000000</td>\n",
       "      <td>0.000000</td>\n",
       "    </tr>\n",
       "    <tr>\n",
       "      <th>0.526316</th>\n",
       "      <td>379.642659</td>\n",
       "      <td>-5.157895</td>\n",
       "    </tr>\n",
       "    <tr>\n",
       "      <th>1.052632</th>\n",
       "      <td>375.570637</td>\n",
       "      <td>-10.315789</td>\n",
       "    </tr>\n",
       "    <tr>\n",
       "      <th>1.578947</th>\n",
       "      <td>368.783934</td>\n",
       "      <td>-15.473684</td>\n",
       "    </tr>\n",
       "    <tr>\n",
       "      <th>2.105263</th>\n",
       "      <td>359.282548</td>\n",
       "      <td>-20.631579</td>\n",
       "    </tr>\n",
       "    <tr>\n",
       "      <th>2.631579</th>\n",
       "      <td>347.066482</td>\n",
       "      <td>-25.789474</td>\n",
       "    </tr>\n",
       "    <tr>\n",
       "      <th>3.157895</th>\n",
       "      <td>332.135734</td>\n",
       "      <td>-30.947368</td>\n",
       "    </tr>\n",
       "    <tr>\n",
       "      <th>3.684211</th>\n",
       "      <td>314.490305</td>\n",
       "      <td>-36.105263</td>\n",
       "    </tr>\n",
       "    <tr>\n",
       "      <th>4.210526</th>\n",
       "      <td>294.130194</td>\n",
       "      <td>-41.263158</td>\n",
       "    </tr>\n",
       "    <tr>\n",
       "      <th>4.736842</th>\n",
       "      <td>271.055402</td>\n",
       "      <td>-46.421053</td>\n",
       "    </tr>\n",
       "    <tr>\n",
       "      <th>5.263158</th>\n",
       "      <td>245.265928</td>\n",
       "      <td>-51.578947</td>\n",
       "    </tr>\n",
       "    <tr>\n",
       "      <th>5.789474</th>\n",
       "      <td>216.761773</td>\n",
       "      <td>-56.736842</td>\n",
       "    </tr>\n",
       "    <tr>\n",
       "      <th>6.315789</th>\n",
       "      <td>185.542936</td>\n",
       "      <td>-61.894737</td>\n",
       "    </tr>\n",
       "    <tr>\n",
       "      <th>6.842105</th>\n",
       "      <td>151.609418</td>\n",
       "      <td>-67.052632</td>\n",
       "    </tr>\n",
       "    <tr>\n",
       "      <th>7.368421</th>\n",
       "      <td>114.961219</td>\n",
       "      <td>-72.210526</td>\n",
       "    </tr>\n",
       "    <tr>\n",
       "      <th>7.894737</th>\n",
       "      <td>75.598338</td>\n",
       "      <td>-77.368421</td>\n",
       "    </tr>\n",
       "    <tr>\n",
       "      <th>8.421053</th>\n",
       "      <td>33.520776</td>\n",
       "      <td>-82.526316</td>\n",
       "    </tr>\n",
       "    <tr>\n",
       "      <th>8.947368</th>\n",
       "      <td>-11.271468</td>\n",
       "      <td>-87.684211</td>\n",
       "    </tr>\n",
       "    <tr>\n",
       "      <th>9.473684</th>\n",
       "      <td>-58.778393</td>\n",
       "      <td>-92.842105</td>\n",
       "    </tr>\n",
       "    <tr>\n",
       "      <th>10.000000</th>\n",
       "      <td>-109.000000</td>\n",
       "      <td>-98.000000</td>\n",
       "    </tr>\n",
       "  </tbody>\n",
       "</table>\n",
       "</div>"
      ],
      "text/plain": [
       "                    y          v\n",
       "0.000000   381.000000   0.000000\n",
       "0.526316   379.642659  -5.157895\n",
       "1.052632   375.570637 -10.315789\n",
       "1.578947   368.783934 -15.473684\n",
       "2.105263   359.282548 -20.631579\n",
       "2.631579   347.066482 -25.789474\n",
       "3.157895   332.135734 -30.947368\n",
       "3.684211   314.490305 -36.105263\n",
       "4.210526   294.130194 -41.263158\n",
       "4.736842   271.055402 -46.421053\n",
       "5.263158   245.265928 -51.578947\n",
       "5.789474   216.761773 -56.736842\n",
       "6.315789   185.542936 -61.894737\n",
       "6.842105   151.609418 -67.052632\n",
       "7.368421   114.961219 -72.210526\n",
       "7.894737    75.598338 -77.368421\n",
       "8.421053    33.520776 -82.526316\n",
       "8.947368   -11.271468 -87.684211\n",
       "9.473684   -58.778393 -92.842105\n",
       "10.000000 -109.000000 -98.000000"
      ]
     },
     "execution_count": 157,
     "metadata": {},
     "output_type": "execute_result"
    }
   ],
   "source": [
    "system = make_system(10)\n",
    "run_odeint(system, slope_func)\n",
    "system.results"
   ]
  },
  {
   "cell_type": "markdown",
   "metadata": {
    "collapsed": true
   },
   "source": [
    "To figure out when the penny hit the sidewalk, we use `interp_inverse`, which return a function that maps from height to time."
   ]
  },
  {
   "cell_type": "code",
   "execution_count": 158,
   "metadata": {
    "collapsed": true
   },
   "outputs": [],
   "source": [
    "y = system.results.y\n",
    "T = interp_inverse(y, kind='cubic')"
   ]
  },
  {
   "cell_type": "markdown",
   "metadata": {
    "collapsed": true
   },
   "source": [
    "`T(0)` interpolates the time when the height was 0."
   ]
  },
  {
   "cell_type": "code",
   "execution_count": 159,
   "metadata": {},
   "outputs": [
    {
     "data": {
      "text/plain": [
       "array(8.817885690936741)"
      ]
     },
     "execution_count": 159,
     "metadata": {},
     "output_type": "execute_result"
    }
   ],
   "source": [
    "T_sidewalk = T(0)\n",
    "T_sidewalk"
   ]
  },
  {
   "cell_type": "markdown",
   "metadata": {
    "collapsed": true
   },
   "source": [
    "We can compare that to the exact result.  Without air resistance, we have\n",
    "\n",
    "$v = -g t$\n",
    "\n",
    "and\n",
    "\n",
    "$y = 381 - g t^2 / 2$\n",
    "\n",
    "Setting $y=0$ and solving for $t$ yields\n",
    "\n",
    "$t = \\sqrt{\\frac{2 y_{init}}{g}}$"
   ]
  },
  {
   "cell_type": "code",
   "execution_count": 160,
   "metadata": {},
   "outputs": [
    {
     "data": {
      "text/html": [
       "8.817885349720552 second"
      ],
      "text/latex": [
       "$8.817885349720552 second$"
      ],
      "text/plain": [
       "<Quantity(8.817885349720552, 'second')>"
      ]
     },
     "execution_count": 160,
     "metadata": {},
     "output_type": "execute_result"
    }
   ],
   "source": [
    "sqrt(2 * init.y / g)"
   ]
  },
  {
   "cell_type": "markdown",
   "metadata": {
    "collapsed": true
   },
   "source": [
    "The estimate is accurate to 4 decimal places."
   ]
  },
  {
   "cell_type": "markdown",
   "metadata": {
    "collapsed": true
   },
   "source": [
    "We can double-check by running the simulation for the estimated flight time."
   ]
  },
  {
   "cell_type": "code",
   "execution_count": 161,
   "metadata": {},
   "outputs": [
    {
     "name": "stdout",
     "output_type": "stream",
     "text": [
      "t=\n",
      "0.0\n",
      "t=\n",
      "0.0\n",
      "t=\n",
      "1.2165585595846108e-05\n",
      "t=\n",
      "1.2165585595846108e-05\n",
      "t=\n",
      "2.4331171191692215e-05\n",
      "t=\n",
      "2.4331171191692215e-05\n",
      "t=\n",
      "0.12168018712965277\n",
      "t=\n",
      "0.24333604308811385\n",
      "t=\n",
      "0.3649918990465749\n",
      "t=\n",
      "1.581550458631186\n",
      "t=\n",
      "2.798109018215797\n",
      "t=\n",
      "4.014667577800408\n",
      "t=\n",
      "16.180253173646516\n"
     ]
    }
   ],
   "source": [
    "system = make_system(duration=T_sidewalk)\n",
    "run_odeint(system, slope_func)"
   ]
  },
  {
   "cell_type": "markdown",
   "metadata": {
    "collapsed": true
   },
   "source": [
    "And checking the final state."
   ]
  },
  {
   "cell_type": "code",
   "execution_count": 162,
   "metadata": {
    "collapsed": true
   },
   "outputs": [],
   "source": [
    "def final_state(results):\n",
    "    \"\"\"Returns the final position and velocity, with units.\n",
    "    \n",
    "    results: TimeFrame with y and v.\n",
    "    \n",
    "    returns: y, v at t_end\n",
    "    \"\"\"\n",
    "    t_end = results.index[-1]\n",
    "    y, v = results.loc[t_end]\n",
    "    return y*m, v*m/s"
   ]
  },
  {
   "cell_type": "markdown",
   "metadata": {
    "collapsed": true
   },
   "source": [
    "As expected, the final height is close to 0."
   ]
  },
  {
   "cell_type": "code",
   "execution_count": 163,
   "metadata": {},
   "outputs": [
    {
     "data": {
      "text/html": [
       "-2.9487742381206772e-05 meter"
      ],
      "text/latex": [
       "$-2.9487742381206772e-05 meter$"
      ],
      "text/plain": [
       "<Quantity(-2.9487742381206772e-05, 'meter')>"
      ]
     },
     "execution_count": 163,
     "metadata": {},
     "output_type": "execute_result"
    }
   ],
   "source": [
    "y_final, v_final = final_state(system.results)\n",
    "y_final"
   ]
  },
  {
   "cell_type": "markdown",
   "metadata": {
    "collapsed": true
   },
   "source": [
    "And we can check the final velocity."
   ]
  },
  {
   "cell_type": "code",
   "execution_count": 164,
   "metadata": {},
   "outputs": [
    {
     "data": {
      "text/html": [
       "-86.41527977118005 meter/second"
      ],
      "text/latex": [
       "$-86.41527977118005 \\frac{meter}{second}$"
      ],
      "text/plain": [
       "<Quantity(-86.41527977118005, 'meter / second')>"
      ]
     },
     "execution_count": 164,
     "metadata": {},
     "output_type": "execute_result"
    }
   ],
   "source": [
    "v_final"
   ]
  },
  {
   "cell_type": "markdown",
   "metadata": {
    "collapsed": true
   },
   "source": [
    "And convert to km/h"
   ]
  },
  {
   "cell_type": "code",
   "execution_count": 165,
   "metadata": {},
   "outputs": [
    {
     "data": {
      "text/html": [
       "-311.0950071762482 kilometer/hour"
      ],
      "text/latex": [
       "$-311.0950071762482 \\frac{kilometer}{hour}$"
      ],
      "text/plain": [
       "<Quantity(-311.0950071762482, 'kilometer / hour')>"
      ]
     },
     "execution_count": 165,
     "metadata": {},
     "output_type": "execute_result"
    }
   ],
   "source": [
    "km = UNITS.kilometer\n",
    "h = UNITS.hour\n",
    "v_final.to(km / h)"
   ]
  },
  {
   "cell_type": "markdown",
   "metadata": {
    "collapsed": true
   },
   "source": [
    "If there were no air resistance, the penny would hit the sidewalk (or someone's head) at more than 300 km/h.\n",
    "\n",
    "So it's a good thing there is air resistance."
   ]
  },
  {
   "cell_type": "markdown",
   "metadata": {},
   "source": [
    "**Exercise:** Try changing the initial velocity and see what effect it has on the time to hot the sidewalk.  Sweep a range of values for the initial velocity, from 0 to 25 m/s, and plot `T_sidewalk` as a function of initial velocity.  You might find the following function useful.\n",
    "\n",
    "Things might go horribly wrong for the larger initial velocities.  What's going on?"
   ]
  },
  {
   "cell_type": "code",
   "execution_count": 166,
   "metadata": {
    "collapsed": true
   },
   "outputs": [],
   "source": [
    "def flight_time(system):\n",
    "    \"\"\"Simulates the system and computes flight time.\n",
    "    \n",
    "    Uses cubic interpolation.\n",
    "    \n",
    "    system: System object\n",
    "    \n",
    "    returns: flight time in seconds\n",
    "    \"\"\"\n",
    "    run_odeint(system, slope_func)\n",
    "    y = system.results.y\n",
    "    inverse = Series(y.index, index=y.values)\n",
    "    T = interpolate(inverse, kind='cubic')\n",
    "    T_sidewalk = T(0)\n",
    "    return T_sidewalk * s"
   ]
  },
  {
   "cell_type": "code",
   "execution_count": 167,
   "metadata": {},
   "outputs": [
    {
     "name": "stdout",
     "output_type": "stream",
     "text": [
      "t=\n",
      "0.0\n",
      "t=\n",
      "0.0\n",
      "t=\n",
      "1.2165585595846108e-05\n",
      "t=\n",
      "1.2165585595846108e-05\n",
      "t=\n",
      "2.4331171191692215e-05\n",
      "t=\n",
      "2.4331171191692215e-05\n",
      "t=\n",
      "0.12168018712965277\n",
      "t=\n",
      "0.24333604308811385\n",
      "t=\n",
      "0.3649918990465749\n",
      "t=\n",
      "1.581550458631186\n",
      "t=\n",
      "2.798109018215797\n",
      "t=\n",
      "4.014667577800408\n",
      "t=\n",
      "16.180253173646516\n",
      "********8.817885349533931 second\n",
      "<<<<<<<<0.0\n",
      "t=\n",
      "0.0\n",
      "t=\n",
      "0.0\n",
      "t=\n",
      "2.36269021902777e-05\n",
      "t=\n",
      "2.36269021902777e-05\n",
      "t=\n",
      "4.72538043805554e-05\n",
      "t=\n",
      "4.72538043805554e-05\n",
      "t=\n",
      "0.23631627570715755\n",
      "t=\n",
      "0.4725852976099345\n",
      "t=\n",
      "0.7088543195127115\n",
      "t=\n",
      "3.0715445385404814\n",
      "t=\n",
      "5.434234757568252\n",
      "t=\n",
      "7.796924976596022\n",
      "t=\n",
      "31.423827166873718\n",
      "********8.929587111276165 second\n",
      "<<<<<<<<1.08695652174\n",
      "t=\n",
      "0.0\n",
      "t=\n",
      "0.0\n",
      "t=\n",
      "3.2420983165369e-05\n",
      "t=\n",
      "3.2420983165369e-05\n",
      "t=\n",
      "6.4841966330738e-05\n",
      "t=\n",
      "6.4841966330738e-05\n",
      "t=\n",
      "0.3242746736200207\n",
      "t=\n",
      "0.6484845052737107\n",
      "t=\n",
      "0.9726943369274007\n",
      "t=\n",
      "4.2147926534643005\n",
      "t=\n",
      "7.456890970001201\n",
      "t=\n",
      "10.6989892865381\n",
      "********9.042783484742696 second\n",
      "<<<<<<<<2.17391304348\n",
      "t=\n",
      "0.0\n",
      "t=\n",
      "0.0\n",
      "t=\n",
      "3.8732468330925975e-05\n",
      "t=\n",
      "3.8732468330925975e-05\n",
      "t=\n",
      "7.746493666185195e-05\n",
      "t=\n",
      "7.746493666185195e-05\n",
      "t=\n",
      "0.38740214824592156\n",
      "t=\n",
      "0.7747268315551813\n",
      "t=\n",
      "1.162051514864441\n",
      "t=\n",
      "5.035298347957038\n",
      "t=\n",
      "8.908545181049636\n",
      "********9.157525426623149 second\n",
      "<<<<<<<<3.26086956522\n",
      "t=\n",
      "0.0\n",
      "t=\n",
      "0.0\n",
      "t=\n",
      "4.315596780888175e-05\n",
      "t=\n",
      "4.315596780888175e-05\n",
      "t=\n",
      "8.63119356177635e-05\n",
      "t=\n",
      "8.63119356177635e-05\n",
      "t=\n",
      "0.43164599002443527\n",
      "t=\n",
      "0.8632056681132527\n",
      "t=\n",
      "1.2947653462020703\n",
      "t=\n",
      "5.610362127090245\n",
      "t=\n",
      "9.92595890797842\n",
      "********9.273885789500213 second\n",
      "<<<<<<<<4.34782608696\n",
      "t=\n",
      "0.0\n",
      "t=\n",
      "0.0\n",
      "t=\n",
      "4.626328704067186e-05\n",
      "t=\n",
      "4.626328704067186e-05\n",
      "t=\n",
      "9.252657408134372e-05\n",
      "t=\n",
      "9.252657408134372e-05\n",
      "t=\n",
      "0.4627253969807999\n",
      "t=\n",
      "0.9253582673875185\n",
      "t=\n",
      "1.387991137794237\n",
      "t=\n",
      "6.014319841861423\n",
      "t=\n",
      "10.64064854592861\n",
      "********9.391979189551195 second\n",
      "<<<<<<<<5.4347826087\n",
      "t=\n",
      "0.0\n",
      "t=\n",
      "0.0\n",
      "t=\n",
      "4.847921296057182e-05\n",
      "t=\n",
      "4.847921296057182e-05\n",
      "t=\n",
      "9.695842592114364e-05\n",
      "t=\n",
      "9.695842592114364e-05\n",
      "t=\n",
      "0.4848890880316394\n",
      "t=\n",
      "0.9696812176373576\n",
      "t=\n",
      "1.4544733472430758\n",
      "t=\n",
      "6.302394643300257\n",
      "t=\n",
      "11.150315939357439\n",
      "********9.511931255832598 second\n",
      "<<<<<<<<6.52173913043\n",
      "t=\n",
      "0.0\n",
      "t=\n",
      "0.0\n",
      "t=\n",
      "5.0091604692803356e-05\n",
      "t=\n",
      "5.0091604692803356e-05\n",
      "t=\n",
      "0.00010018320938560671\n",
      "t=\n",
      "0.00010018320938560671\n",
      "t=\n",
      "0.5010162301374192\n",
      "t=\n",
      "1.0019322770654528\n",
      "t=\n",
      "1.5028483239934864\n",
      "t=\n",
      "6.512008793273822\n",
      "t=\n",
      "11.521169262554158\n",
      "********9.633807853675549 second\n",
      "<<<<<<<<7.60869565217\n",
      "t=\n",
      "0.0\n",
      "t=\n",
      "0.0\n",
      "t=\n",
      "5.129001316436188e-05\n",
      "t=\n",
      "5.129001316436188e-05\n",
      "t=\n",
      "0.00010258002632872376\n",
      "t=\n",
      "0.00010258002632872376\n",
      "t=\n",
      "0.5130027116699475\n",
      "t=\n",
      "1.0259028433135664\n",
      "t=\n",
      "1.5388029749571852\n",
      "t=\n",
      "6.667804291393374\n",
      "t=\n",
      "11.796805607829562\n",
      "********9.757884399167033 second\n",
      "<<<<<<<<8.69565217391\n",
      "t=\n",
      "0.0\n",
      "t=\n",
      "0.0\n",
      "t=\n",
      "5.21991559351108e-05\n",
      "t=\n",
      "5.21991559351108e-05\n",
      "t=\n",
      "0.0001043983118702216\n",
      "t=\n",
      "0.0001043983118702216\n",
      "t=\n",
      "0.5220959576629782\n",
      "t=\n",
      "1.0440875170140862\n",
      "t=\n",
      "1.5660790763651942\n",
      "t=\n",
      "6.785994669876274\n",
      "t=\n",
      "12.005910263387353\n",
      "********9.884925698148997 second\n",
      "<<<<<<<<9.78260869565\n",
      "t=\n",
      "0.0\n",
      "t=\n",
      "0.0\n",
      "t=\n",
      "5.290206658724229e-05\n",
      "t=\n",
      "5.290206658724229e-05\n",
      "t=\n",
      "0.00010580413317448457\n",
      "t=\n",
      "0.00010580413317448457\n",
      "t=\n",
      "0.5291264700055974\n",
      "t=\n",
      "0.5291264700055974\n",
      "t=\n",
      "1.0581471358780203\n",
      "t=\n",
      "1.5871678017504434\n",
      "t=\n",
      "6.877374460474673\n",
      "t=\n",
      "12.167581119198903\n",
      "********10.014837172492125 second\n",
      "<<<<<<<<10.8695652174\n",
      "t=\n",
      "0.0\n",
      "t=\n",
      "0.0\n",
      "t=\n",
      "5.345498400685387e-05\n",
      "t=\n",
      "5.345498400685387e-05\n",
      "t=\n",
      "0.00010690996801370774\n",
      "t=\n",
      "0.00010690996801370774\n",
      "t=\n",
      "0.5346567500365523\n",
      "t=\n",
      "1.069206590105091\n",
      "t=\n",
      "1.6037564301736296\n",
      "t=\n",
      "6.949254830859016\n",
      "t=\n",
      "12.294753231544401\n",
      "********10.145620919350648 second\n",
      "<<<<<<<<11.9565217391\n",
      "t=\n",
      "0.0\n",
      "t=\n",
      "0.0\n",
      "t=\n",
      "5.3896730262687615e-05\n",
      "t=\n",
      "5.3896730262687615e-05\n",
      "t=\n",
      "0.00010779346052537523\n",
      "t=\n",
      "0.00010779346052537523\n",
      "t=\n",
      "0.5390750960874016\n",
      "t=\n",
      "1.0780423987142778\n",
      "t=\n",
      "1.617009701341154\n",
      "t=\n",
      "7.006682727609915\n",
      "t=\n",
      "12.396355753878677\n",
      "********10.28075866223924 second\n",
      "<<<<<<<<13.0434782609\n",
      "t=\n",
      "0.0\n",
      "t=\n",
      "0.0\n",
      "t=\n",
      "5.425462222612949e-05\n",
      "t=\n",
      "5.425462222612949e-05\n",
      "t=\n",
      "0.00010850924445225899\n",
      "t=\n",
      "0.00010850924445225899\n",
      "t=\n",
      "0.5426547315057472\n",
      "t=\n",
      "1.0852009537670422\n",
      "t=\n",
      "1.627747176028337\n",
      "t=\n",
      "7.053209398641286\n",
      "t=\n",
      "12.478671621254236\n",
      "********10.432894566416888 second\n",
      "<<<<<<<<14.1304347826\n",
      "t=\n",
      "0.0\n",
      "t=\n",
      "0.0\n",
      "t=\n",
      "5.4548238645417765e-05\n",
      "t=\n",
      "5.4548238645417765e-05\n",
      "t=\n",
      "0.00010909647729083553\n",
      "t=\n",
      "0.00010909647729083553\n",
      "t=\n",
      "0.5455914829314685\n",
      "t=\n",
      "1.0910738693856463\n",
      "t=\n",
      "1.6365562558398241\n",
      "t=\n",
      "7.091380120381601\n",
      "t=\n",
      "12.546203984923377\n",
      "********10.584946008262108 second\n",
      "<<<<<<<<15.2173913043\n",
      "t=\n",
      "0.0\n",
      "t=\n",
      "0.0\n",
      "t=\n",
      "5.479185768147795e-05\n",
      "t=\n",
      "5.479185768147795e-05\n",
      "t=\n",
      "0.0001095837153629559\n",
      "t=\n",
      "0.0001095837153629559\n",
      "t=\n",
      "0.5480281605301425\n",
      "t=\n",
      "0.5480281605301425\n",
      "t=\n",
      "1.095946737344922\n",
      "t=\n",
      "1.6438653141597017\n",
      "t=\n",
      "7.123051082307497\n",
      "t=\n",
      "12.602236850455292\n",
      "********10.67843325430134 second\n",
      "<<<<<<<<16.3043478261\n",
      "t=\n",
      "0.0\n",
      "t=\n",
      "0.0\n",
      "t=\n",
      "5.499606134958421e-05\n",
      "t=\n",
      "5.499606134958421e-05\n",
      "t=\n",
      "0.00010999212269916843\n",
      "t=\n",
      "0.00010999212269916843\n",
      "t=\n",
      "0.5500706056185413\n",
      "t=\n",
      "1.1000312191143835\n",
      "t=\n",
      "1.6499918326102256\n",
      "t=\n",
      "7.149597967568647\n",
      "t=\n",
      "12.649204102527069\n",
      "********10.824317610684275 second\n",
      "<<<<<<<<17.3913043478\n",
      "t=\n",
      "0.0\n",
      "t=\n",
      "0.0\n",
      "t=\n",
      "5.516881023733226e-05\n",
      "t=\n",
      "5.516881023733226e-05\n",
      "t=\n",
      "0.00011033762047466452\n",
      "t=\n",
      "0.00011033762047466452\n",
      "t=\n",
      "0.5517984399937973\n",
      "t=\n",
      "0.5517984399937973\n",
      "t=\n",
      "1.1034865423671198\n",
      "t=\n",
      "1.6551746447404425\n",
      "t=\n",
      "7.17205566847367\n",
      "t=\n",
      "12.688936692206896\n",
      "********11.333621759258918 second\n",
      "<<<<<<<<18.4782608696\n",
      "t=\n",
      "0.0\n",
      "t=\n",
      "0.0\n",
      "t=\n",
      "5.5316175857885935e-05\n",
      "t=\n",
      "5.5316175857885935e-05\n",
      "t=\n",
      "0.00011063235171577187\n",
      "t=\n",
      "0.00011063235171577187\n",
      "t=\n",
      "0.5532723909305752\n",
      "t=\n",
      "1.1064341495094348\n",
      "t=\n",
      "1.6595959080882943\n",
      "t=\n",
      "7.191213493876889\n",
      "t=\n",
      "12.722831079665482\n",
      "********11.516812563517007 second\n",
      "<<<<<<<<19.5652173913\n",
      "t=\n",
      "0.0\n",
      "t=\n",
      "0.0\n",
      "t=\n",
      "5.544284799308147e-05\n",
      "t=\n",
      "5.544284799308147e-05\n",
      "t=\n",
      "0.00011088569598616294\n",
      "t=\n",
      "0.00011088569598616294\n",
      "t=\n",
      "0.5545393656268008\n",
      "t=\n",
      "0.5545393656268008\n",
      "t=\n",
      "1.1089678455576155\n",
      "t=\n",
      "1.66339632548843\n",
      "t=\n",
      "7.2076811247965775\n",
      "t=\n",
      "12.751965924104724\n",
      "********9.582239046074676 second\n",
      "<<<<<<<<20.652173913\n",
      "t=\n",
      "0.0\n",
      "t=\n",
      "0.0\n",
      "t=\n",
      "5.555249169009121e-05\n",
      "t=\n",
      "5.555249169009121e-05\n",
      "t=\n",
      "0.00011110498338018242\n",
      "t=\n",
      "0.00011110498338018242\n",
      "t=\n",
      "0.5556360218842923\n",
      "t=\n",
      "0.5556360218842923\n",
      "t=\n",
      "1.1111609387852044\n",
      "t=\n",
      "1.6666858556861164\n",
      "t=\n",
      "7.221935024695238\n",
      "t=\n",
      "12.77718419370436\n",
      "********10.38808555623595 second\n",
      "<<<<<<<<21.7391304348\n",
      "t=\n",
      "0.0\n",
      "t=\n",
      "0.0\n",
      "t=\n",
      "5.564800218364178e-05\n",
      "t=\n",
      "5.564800218364178e-05\n",
      "t=\n",
      "0.00011129600436728357\n",
      "t=\n",
      "0.00011129600436728357\n",
      "t=\n",
      "0.5565913178407852\n",
      "t=\n",
      "1.113071339677203\n",
      "t=\n",
      "1.6695513615136208\n",
      "t=\n",
      "7.234351579877799\n",
      "t=\n",
      "12.799151798241978\n",
      "********28.964823486394465 second\n",
      "<<<<<<<<22.8260869565\n",
      "t=\n",
      "0.0\n",
      "t=\n",
      "0.0\n",
      "t=\n",
      "5.5731689453600255e-05\n",
      "t=\n",
      "5.5731689453600255e-05\n",
      "t=\n",
      "0.00011146337890720051\n",
      "t=\n",
      "0.00011146337890720051\n",
      "t=\n",
      "0.5574283579149097\n",
      "t=\n",
      "0.5574283579149097\n",
      "t=\n",
      "1.1147452524509123\n",
      "t=\n",
      "1.6720621469869148\n",
      "t=\n",
      "7.24523109234694\n",
      "t=\n",
      "12.818400037706965\n",
      "********17.852242858562107 second\n",
      "<<<<<<<<23.9130434783\n",
      "t=\n",
      "0.0\n",
      "t=\n",
      "0.0\n",
      "t=\n",
      "5.5805413572394415e-05\n",
      "t=\n",
      "5.5805413572394415e-05\n",
      "t=\n",
      "0.00011161082714478883\n",
      "t=\n",
      "0.00011161082714478883\n",
      "t=\n",
      "0.558165746551089\n",
      "t=\n",
      "0.558165746551089\n",
      "t=\n",
      "1.116219882275033\n",
      "t=\n",
      "1.6742740179989772\n",
      "t=\n",
      "7.254815375238419\n",
      "t=\n",
      "12.83535673247786\n",
      "********425.0130272218893 second\n",
      "<<<<<<<<25.0\n"
     ]
    },
    {
     "data": {
      "image/png": "[encoded data removed]",
      "text/plain": [
       "<matplotlib.figure.Figure at 0x17d6c878048>"
      ]
     },
     "metadata": {},
     "output_type": "display_data"
    }
   ],
   "source": [
    "v=linspace(0,25,24)\n",
    "for vint in v:\n",
    "    system = make_system(duration=T_sidewalk, v_init=vint)     \n",
    "    x=flight_time(system)\n",
    "    print(\"********\" + str(x))\n",
    "    print(\"<<<<<<<<\" + str(vint))\n",
    "    plot (vint, x/s, \"b-\")"
   ]
  },
  {
   "cell_type": "markdown",
   "metadata": {},
   "source": [
    "It goes crazy at the end because interpolation gets weird at higher numbers, it cannot handle them.\n"
   ]
  },
  {
   "cell_type": "markdown",
   "metadata": {},
   "source": [
    "### With air resistance"
   ]
  },
  {
   "cell_type": "markdown",
   "metadata": {},
   "source": [
    "Next we'll add air resistance using the [drag equation](https://en.wikipedia.org/wiki/Drag_equation)\n",
    "\n",
    "First I'll create a `Condition` object to contain the quantities we'll need."
   ]
  },
  {
   "cell_type": "code",
   "execution_count": 168,
   "metadata": {
    "collapsed": true
   },
   "outputs": [],
   "source": [
    "condition = Condition(height = 381 * m,\n",
    "                      v_init = 0 * m / s,\n",
    "                      g = 9.8 * m/s**2,\n",
    "                      mass = 2.5e-3 * kg,\n",
    "                      diameter = 19e-3 * m,\n",
    "                      rho = 1.2 * kg/m**3,\n",
    "                      v_term = 18 * m / s,\n",
    "                      duration = 30 * s)"
   ]
  },
  {
   "cell_type": "markdown",
   "metadata": {
    "collapsed": true
   },
   "source": [
    "Now here's a version of `make_system` that takes a `Condition` object as a parameter.\n",
    "\n",
    "`make_system` uses the given value of `v_term` to compute the drag coefficient `C_d`."
   ]
  },
  {
   "cell_type": "code",
   "execution_count": 169,
   "metadata": {
    "collapsed": true
   },
   "outputs": [],
   "source": [
    "def make_system(condition):\n",
    "    \"\"\"Makes a System object for the given conditions.\n",
    "    \n",
    "    condition: Condition with height, g, mass, diameter, \n",
    "               rho, v_term, and duration\n",
    "    \n",
    "    returns: System with init, g, mass, rho, C_d, area, and ts\n",
    "    \"\"\"\n",
    "    unpack(condition)\n",
    "    \n",
    "    init = State(y=height, v=v_init)\n",
    "    area = np.pi * (diameter/2)**2\n",
    "    C_d = 2 * mass * g / (rho * area * v_term**2)\n",
    "    ts = linspace(0, duration, 101)\n",
    "    \n",
    "    return System(init=init, g=g, mass=mass, rho=rho,\n",
    "                  C_d=C_d, area=area, ts=ts)"
   ]
  },
  {
   "cell_type": "markdown",
   "metadata": {
    "collapsed": true
   },
   "source": [
    "Let's make a `System`"
   ]
  },
  {
   "cell_type": "code",
   "execution_count": 170,
   "metadata": {},
   "outputs": [
    {
     "data": {
      "text/html": [
       "<div>\n",
       "<style>\n",
       "    .dataframe thead tr:only-child th {\n",
       "        text-align: right;\n",
       "    }\n",
       "\n",
       "    .dataframe thead th {\n",
       "        text-align: left;\n",
       "    }\n",
       "\n",
       "    .dataframe tbody tr th {\n",
       "        vertical-align: top;\n",
       "    }\n",
       "</style>\n",
       "<table border=\"1\" class=\"dataframe\">\n",
       "  <thead>\n",
       "    <tr style=\"text-align: right;\">\n",
       "      <th></th>\n",
       "      <th>value</th>\n",
       "    </tr>\n",
       "  </thead>\n",
       "  <tbody>\n",
       "    <tr>\n",
       "      <th>init</th>\n",
       "      <td>y             381 meter\n",
       "v    0.0 meter / secon...</td>\n",
       "    </tr>\n",
       "    <tr>\n",
       "      <th>g</th>\n",
       "      <td>9.8 meter / second ** 2</td>\n",
       "    </tr>\n",
       "    <tr>\n",
       "      <th>mass</th>\n",
       "      <td>0.0025 kilogram</td>\n",
       "    </tr>\n",
       "    <tr>\n",
       "      <th>rho</th>\n",
       "      <td>1.2 kilogram / meter ** 3</td>\n",
       "    </tr>\n",
       "    <tr>\n",
       "      <th>C_d</th>\n",
       "      <td>0.4445009981135434 dimensionless</td>\n",
       "    </tr>\n",
       "    <tr>\n",
       "      <th>area</th>\n",
       "      <td>0.0002835287369864788 meter ** 2</td>\n",
       "    </tr>\n",
       "    <tr>\n",
       "      <th>ts</th>\n",
       "      <td>[0.0 second, 0.3 second, 0.6 second, 0.8999999...</td>\n",
       "    </tr>\n",
       "  </tbody>\n",
       "</table>\n",
       "</div>"
      ],
      "text/plain": [
       "init    y             381 meter\n",
       "v    0.0 meter / secon...\n",
       "g                                 9.8 meter / second ** 2\n",
       "mass                                      0.0025 kilogram\n",
       "rho                             1.2 kilogram / meter ** 3\n",
       "C_d                      0.4445009981135434 dimensionless\n",
       "area                     0.0002835287369864788 meter ** 2\n",
       "ts      [0.0 second, 0.3 second, 0.6 second, 0.8999999...\n",
       "dtype: object"
      ]
     },
     "execution_count": 170,
     "metadata": {},
     "output_type": "execute_result"
    }
   ],
   "source": [
    "system = make_system(condition)\n",
    "system"
   ]
  },
  {
   "cell_type": "markdown",
   "metadata": {
    "collapsed": true
   },
   "source": [
    "Here's the slope function, including acceleration due to gravity and drag."
   ]
  },
  {
   "cell_type": "code",
   "execution_count": 171,
   "metadata": {
    "collapsed": true
   },
   "outputs": [],
   "source": [
    "def slope_func(state, t, system):\n",
    "    \"\"\"Compute derivatives of the state.\n",
    "    \n",
    "    state: position, velocity\n",
    "    t: time\n",
    "    system: System object containing g, rho,\n",
    "            C_d, area, and mass\n",
    "    \n",
    "    returns: derivatives of y and v\n",
    "    \"\"\"\n",
    "    y, v = state\n",
    "    unpack(system)\n",
    "    \n",
    "    f_drag = rho * v**2 * C_d * area / 2\n",
    "    a_drag = f_drag / mass\n",
    "    \n",
    "    dydt = v\n",
    "    dvdt = -g + a_drag\n",
    "    \n",
    "    return dydt, dvdt"
   ]
  },
  {
   "cell_type": "markdown",
   "metadata": {
    "collapsed": true
   },
   "source": [
    "As always, let's test the slope function with the initial conditions."
   ]
  },
  {
   "cell_type": "code",
   "execution_count": 172,
   "metadata": {},
   "outputs": [
    {
     "data": {
      "text/plain": [
       "(<Quantity(0.0, 'meter / second')>, <Quantity(-9.8, 'meter / second ** 2')>)"
      ]
     },
     "execution_count": 172,
     "metadata": {},
     "output_type": "execute_result"
    }
   ],
   "source": [
    "slope_func(system.init, 0, system)"
   ]
  },
  {
   "cell_type": "markdown",
   "metadata": {
    "collapsed": true
   },
   "source": [
    "And then run the simulation."
   ]
  },
  {
   "cell_type": "code",
   "execution_count": 173,
   "metadata": {
    "collapsed": true
   },
   "outputs": [],
   "source": [
    "run_odeint(system, slope_func)"
   ]
  },
  {
   "cell_type": "markdown",
   "metadata": {
    "collapsed": true
   },
   "source": [
    "First check that the simulation ran long enough for the penny to land."
   ]
  },
  {
   "cell_type": "code",
   "execution_count": 174,
   "metadata": {},
   "outputs": [
    {
     "data": {
      "text/plain": [
       "(<Quantity(-136.083704279796, 'meter')>,\n",
       " <Quantity(-18.00000000087864, 'meter / second')>)"
      ]
     },
     "execution_count": 174,
     "metadata": {},
     "output_type": "execute_result"
    }
   ],
   "source": [
    "final_state(system.results)"
   ]
  },
  {
   "cell_type": "markdown",
   "metadata": {
    "collapsed": true
   },
   "source": [
    "Then compute the flight time."
   ]
  },
  {
   "cell_type": "code",
   "execution_count": 175,
   "metadata": {},
   "outputs": [
    {
     "data": {
      "text/plain": [
       "array(22.439794207078908)"
      ]
     },
     "execution_count": 175,
     "metadata": {},
     "output_type": "execute_result"
    }
   ],
   "source": [
    "y = system.results.y\n",
    "inverse = Series(y.index, index=y.values)\n",
    "T = interpolate(inverse, kind='cubic')\n",
    "T_sidewalk = T(0)\n",
    "T_sidewalk"
   ]
  },
  {
   "cell_type": "markdown",
   "metadata": {
    "collapsed": true
   },
   "source": [
    "Setting the duration to the computed flight time, we can check the final conditions."
   ]
  },
  {
   "cell_type": "code",
   "execution_count": 176,
   "metadata": {
    "collapsed": true
   },
   "outputs": [],
   "source": [
    "condition.set(duration=T_sidewalk)\n",
    "system = make_system(condition)\n",
    "run_odeint(system, slope_func)\n",
    "y_final, v_final = final_state(system.results)"
   ]
  },
  {
   "cell_type": "markdown",
   "metadata": {
    "collapsed": true
   },
   "source": [
    "The final height is close to 0, as expected.  And the final velocity is close to the given terminal velocity."
   ]
  },
  {
   "cell_type": "code",
   "execution_count": 177,
   "metadata": {},
   "outputs": [
    {
     "data": {
      "text/plain": [
       "(<Quantity(1.2732392917769175e-10, 'meter')>,\n",
       " <Quantity(-18.00000000874157, 'meter / second')>)"
      ]
     },
     "execution_count": 177,
     "metadata": {},
     "output_type": "execute_result"
    }
   ],
   "source": [
    "y_final, v_final"
   ]
  },
  {
   "cell_type": "markdown",
   "metadata": {
    "collapsed": true
   },
   "source": [
    "Here's the plot of position as a function of time."
   ]
  },
  {
   "cell_type": "code",
   "execution_count": 178,
   "metadata": {},
   "outputs": [
    {
     "name": "stdout",
     "output_type": "stream",
     "text": [
      "Saving figure to file chap09-fig02.pdf\n"
     ]
    },
    {
     "data": {
      "image/png": "[encoded data removed]",
      "text/plain": [
       "<matplotlib.figure.Figure at 0x17d6c8ec320>"
      ]
     },
     "metadata": {},
     "output_type": "display_data"
    }
   ],
   "source": [
    "plot_position(system.results)\n",
    "savefig('chap09-fig02.pdf')"
   ]
  },
  {
   "cell_type": "markdown",
   "metadata": {},
   "source": [
    "And velocity as a function of time:"
   ]
  },
  {
   "cell_type": "code",
   "execution_count": 179,
   "metadata": {
    "collapsed": true
   },
   "outputs": [],
   "source": [
    "def plot_velocity(results):\n",
    "    \"\"\"Plot the results.\n",
    "    \n",
    "    results: DataFrame with velocity, v\n",
    "    \"\"\"\n",
    "    newfig()\n",
    "    plot(results.v, label='v')\n",
    "        \n",
    "    decorate(xlabel='Time (s)',\n",
    "             ylabel='Velocity (m/2)')"
   ]
  },
  {
   "cell_type": "code",
   "execution_count": 180,
   "metadata": {},
   "outputs": [
    {
     "data": {
      "image/png": "[encoded data removed]",
      "text/plain": [
       "<matplotlib.figure.Figure at 0x17d6c9610b8>"
      ]
     },
     "metadata": {},
     "output_type": "display_data"
    }
   ],
   "source": [
    "plot_velocity(system.results)"
   ]
  },
  {
   "cell_type": "markdown",
   "metadata": {
    "collapsed": true
   },
   "source": [
    "From an initial velocity of 0, the penny accelerates downward until it reaches terminal velocity; after that, velocity is constant."
   ]
  },
  {
   "cell_type": "markdown",
   "metadata": {},
   "source": [
    "**Exercise:** Run the simulation with an initial velocity, downward, that exceeds the penny's terminal velocity.  Hint: use `condition.set`.\n",
    "\n",
    "What do you expect to happen?  Plot velocity and position as a function of time, and see if they are consistent with your prediction."
   ]
  },
  {
   "cell_type": "code",
   "execution_count": 181,
   "metadata": {},
   "outputs": [
    {
     "data": {
      "image/png": "[encoded data removed]",
      "text/plain": [
       "<matplotlib.figure.Figure at 0x17d6c9ee240>"
      ]
     },
     "metadata": {},
     "output_type": "display_data"
    },
    {
     "data": {
      "image/png": "[encoded data removed]",
      "text/plain": [
       "<matplotlib.figure.Figure at 0x17d6c97ca90>"
      ]
     },
     "metadata": {},
     "output_type": "display_data"
    }
   ],
   "source": [
    "condition.set(vint=-50)\n",
    "system = make_system(condition)\n",
    "run_odeint(system, slope_func)\n",
    "plot_position(system.results)\n",
    "plot_velocity(system.results)"
   ]
  },
  {
   "cell_type": "markdown",
   "metadata": {},
   "source": [
    "### Dropping quarters"
   ]
  },
  {
   "cell_type": "markdown",
   "metadata": {},
   "source": [
    "Suppose we drop a quarter from the Empire State Building and find that its flight time is 19.1 seconds.  We can use this measurement to estimate the coefficient of drag.\n",
    "\n",
    "Here's a `Condition` object with the relevant parameters from\n",
    "https://en.wikipedia.org/wiki/Quarter_(United_States_coin)\n"
   ]
  },
  {
   "cell_type": "code",
   "execution_count": 182,
   "metadata": {
    "collapsed": true
   },
   "outputs": [],
   "source": [
    "condition = Condition(height = 381 * m,\n",
    "                      v_init = 0 * m / s,\n",
    "                      g = 9.8 * m/s**2,\n",
    "                      mass = 5.67e-3 * kg,\n",
    "                      diameter = 24.26e-3 * m,\n",
    "                      rho = 1.2 * kg/m**3,\n",
    "                      duration = 19.1 * s)"
   ]
  },
  {
   "cell_type": "markdown",
   "metadata": {},
   "source": [
    "And here's a modified version of `make_system`"
   ]
  },
  {
   "cell_type": "code",
   "execution_count": 183,
   "metadata": {
    "collapsed": true
   },
   "outputs": [],
   "source": [
    "def make_system(condition):\n",
    "    \"\"\"Makes a System object for the given conditions.\n",
    "    \n",
    "    condition: Condition with height, v_init, g, mass, diameter, \n",
    "               rho, C_d, and duration\n",
    "    \n",
    "    returns: System with init, g, mass, rho, C_d, area, and ts\n",
    "    \"\"\"\n",
    "    unpack(condition)\n",
    "    \n",
    "    init = State(y=height, v=v_init)\n",
    "    area = np.pi * (diameter/2)**2\n",
    "    ts = linspace(0, duration, 101)\n",
    "    \n",
    "    return System(init=init, g=g, mass=mass, rho=rho,\n",
    "                  C_d=C_d, area=area, ts=ts)"
   ]
  },
  {
   "cell_type": "markdown",
   "metadata": {},
   "source": [
    "We can run the simulation with an initial guess of `C_d=0.4`."
   ]
  },
  {
   "cell_type": "code",
   "execution_count": 184,
   "metadata": {},
   "outputs": [
    {
     "data": {
      "image/png": "[encoded data removed]",
      "text/plain": [
       "<matplotlib.figure.Figure at 0x17d6cad07b8>"
      ]
     },
     "metadata": {},
     "output_type": "display_data"
    }
   ],
   "source": [
    "condition.set(C_d=0.4)\n",
    "system = make_system(condition)\n",
    "run_odeint(system, slope_func)\n",
    "plot_position(system.results)"
   ]
  },
  {
   "cell_type": "markdown",
   "metadata": {},
   "source": [
    "The final height is -11 meters, which means our guess was too low (we need more drag to slow the quarter down)."
   ]
  },
  {
   "cell_type": "code",
   "execution_count": 185,
   "metadata": {},
   "outputs": [
    {
     "data": {
      "text/plain": [
       "(<Quantity(-11.034779626277231, 'meter')>,\n",
       " <Quantity(-22.380158694375393, 'meter / second')>)"
      ]
     },
     "execution_count": 185,
     "metadata": {},
     "output_type": "execute_result"
    }
   ],
   "source": [
    "final_state(system.results)"
   ]
  },
  {
   "cell_type": "markdown",
   "metadata": {},
   "source": [
    "`height_func` takes a hypothetical value of `C_d` and returns the height after 19.1 seconds."
   ]
  },
  {
   "cell_type": "code",
   "execution_count": 186,
   "metadata": {
    "collapsed": true
   },
   "outputs": [],
   "source": [
    "def height_func(C_d, condition):\n",
    "    \"\"\"Final height as a function of C_d.\n",
    "    \n",
    "    C_d: drag coefficient\n",
    "    condition: Condition object\n",
    "    \n",
    "    returns: height in m\n",
    "    \"\"\"\n",
    "    condition.set(C_d=C_d)\n",
    "    system = make_system(condition)\n",
    "    run_odeint(system, slope_func)\n",
    "    y, v = final_state(system.results)\n",
    "    return y"
   ]
  },
  {
   "cell_type": "markdown",
   "metadata": {},
   "source": [
    "If we run it with `C_d=0.4`, we get -11 meters again."
   ]
  },
  {
   "cell_type": "code",
   "execution_count": 187,
   "metadata": {},
   "outputs": [
    {
     "data": {
      "text/html": [
       "-11.034779626277231 meter"
      ],
      "text/latex": [
       "$-11.034779626277231 meter$"
      ],
      "text/plain": [
       "<Quantity(-11.034779626277231, 'meter')>"
      ]
     },
     "execution_count": 187,
     "metadata": {},
     "output_type": "execute_result"
    }
   ],
   "source": [
    "height_func(0.4, condition)"
   ]
  },
  {
   "cell_type": "markdown",
   "metadata": {},
   "source": [
    "Now we can use `fsolve` to find the value of `C_d` that makes the final height 0."
   ]
  },
  {
   "cell_type": "code",
   "execution_count": 188,
   "metadata": {},
   "outputs": [
    {
     "data": {
      "text/plain": [
       "array([ 0.42587017])"
      ]
     },
     "execution_count": 188,
     "metadata": {},
     "output_type": "execute_result"
    }
   ],
   "source": [
    "solution = fsolve(height_func, 0.4, condition)\n",
    "solution"
   ]
  },
  {
   "cell_type": "markdown",
   "metadata": {},
   "source": [
    "Plugging in the estimated value, we can run the simulation again to get terminal velocity."
   ]
  },
  {
   "cell_type": "code",
   "execution_count": 189,
   "metadata": {},
   "outputs": [
    {
     "data": {
      "text/plain": [
       "(<Quantity(-4.725109192804666e-13, 'meter')>,\n",
       " <Quantity(-21.689751051700213, 'meter / second')>)"
      ]
     },
     "execution_count": 189,
     "metadata": {},
     "output_type": "execute_result"
    }
   ],
   "source": [
    "condition.set(C_d=solution)\n",
    "system = make_system(condition)\n",
    "run_odeint(system, slope_func)\n",
    "final_state(system.results)"
   ]
  },
  {
   "cell_type": "markdown",
   "metadata": {},
   "source": [
    "In this example, the terminal velocity of the quarter is higher than that of the penny, but we should not take this result seriously because the measurements we used are not real; I made them up."
   ]
  }
 ],
 "metadata": {
  "kernelspec": {
   "display_name": "Python 3",
   "language": "python",
   "name": "python3"
  },
  "language_info": {
   "codemirror_mode": {
    "name": "ipython",
    "version": 3
   },
   "file_extension": ".py",
   "mimetype": "text/x-python",
   "name": "python",
   "nbconvert_exporter": "python",
   "pygments_lexer": "ipython3",
   "version": "3.6.1"
  }
 },
 "nbformat": 4,
 "nbformat_minor": 1
}
