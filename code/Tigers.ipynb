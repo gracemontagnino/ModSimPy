{
 "cells": [
  {
   "cell_type": "code",
   "execution_count": 189,
   "metadata": {
    "collapsed": true
   },
   "outputs": [],
   "source": [
    "# If you want the figures to appear in the notebook, \n",
    "# and you want to interact with them, use\n",
    "# %matplotlib notebook\n",
    "\n",
    "# If you want the figures to appear in the notebook, \n",
    "# and you don't want to interact with them, use\n",
    "# %matplotlib inline\n",
    "\n",
    "# If you want the figures to appear in separate windows, use\n",
    "# %matplotlib qt5\n",
    "\n",
    "# To switch from one to another, you have to select Kernel->Restart\n",
    "\n",
    "%matplotlib inline\n",
    "\n",
    "from modsim import *"
   ]
  },
  {
   "cell_type": "code",
   "execution_count": 190,
   "metadata": {
    "collapsed": true
   },
   "outputs": [],
   "source": [
    "def make_system(birth_rate=0.035, death_rate=.1665, p0=3890):\n",
    "    \n",
    "    system = System(t0 = 0, \n",
    "                    t_end = 100,\n",
    "                    p0 = p0,\n",
    "                    birth_rate = birth_rate,\n",
    "                    death_rate = death_rate)\n",
    "    return system"
   ]
  },
  {
   "cell_type": "code",
   "execution_count": 191,
   "metadata": {
    "collapsed": true
   },
   "outputs": [],
   "source": [
    "def run_simulation():\n",
    "    system = System(birth_rate=.035, death_rate=.1665)\n",
    "    return system"
   ]
  },
  {
   "cell_type": "code",
   "execution_count": 192,
   "metadata": {},
   "outputs": [
    {
     "data": {
      "text/plain": [
       "array([  1.,   2.,   3.,   4.,   5.,   6.,   7.,   8.,   9.,  10.,  11.])"
      ]
     },
     "execution_count": 192,
     "metadata": {},
     "output_type": "execute_result"
    }
   ],
   "source": [
    "system = make_system()\n",
    "time=linspace(0,9,10)\n",
    "population = linspace(1, 11, 11)\n",
    "population"
   ]
  },
  {
   "cell_type": "code",
   "execution_count": 193,
   "metadata": {},
   "outputs": [],
   "source": [
    "def sweep_birth_rate(birth_rate, death_rate, p0):\n",
    "    population[0]=p0\n",
    "    for apple in time:\n",
    "        system = make_system(birth_rate=birth_rate,\n",
    "                             death_rate=death_rate, p0=p0)\n",
    "        #if population[apple]>0:\n",
    "        run_simulation()\n",
    "        population[int(apple)+1]=population[int(apple)]+ ((p0*birth_rate)-(death_rate*p0))\n",
    "            # p1_array[int(apple)]=population[int(apple)] \n",
    "        plot(apple, population[int(apple)],'gs', label='Tigers')\n",
    "        #else:\n",
    "            #return\n",
    "        \n",
    "    decorate(xlabel='Time in Years',\n",
    "             ylabel='Final population')"
   ]
  },
  {
   "cell_type": "code",
   "execution_count": 194,
   "metadata": {},
   "outputs": [
    {
     "data": {
      "image/png": "[encoded data removed]",
      "text/plain": [
       "<matplotlib.figure.Figure at 0x1c106df9518>"
      ]
     },
     "metadata": {},
     "output_type": "display_data"
    }
   ],
   "source": [
    "sweep_birth_rate(.035, .1665, 3890)"
   ]
  },
  {
   "cell_type": "code",
   "execution_count": null,
   "metadata": {},
   "outputs": [],
   "source": []
  }
 ],
 "metadata": {
  "kernelspec": {
   "display_name": "Python 3",
   "language": "python",
   "name": "python3"
  },
  "language_info": {
   "codemirror_mode": {
    "name": "ipython",
    "version": 3
   },
   "file_extension": ".py",
   "mimetype": "text/x-python",
   "name": "python",
   "nbconvert_exporter": "python",
   "pygments_lexer": "ipython3",
   "version": "3.6.1"
  }
 },
 "nbformat": 4,
 "nbformat_minor": 1
}
